{
 "cells": [
  {
   "cell_type": "markdown",
   "metadata": {},
   "source": [
    "<h1>Ejercicio 4</h1>\n",
    "Implemente cuatro métodos para generar una variable X que toma los valores del 1 al 10, con probabilidades\n",
    "\n",
    "$$ p1 = 0,11\\space p2 = 0,14\\space p3 = 0,09\\space p4 = 0,08\\space p5 = 0,12$$\n",
    "$$\\space p6 = 0,10\\space p7 = 0,09\\space p8 = 0,07\\space p9 = 0,11\\space p10 = 0,09 $$\n",
    "\n",
    "usando:\n",
    "\n",
    "1. Método de rechazo con una uniforme discreta, buscando la cota c más baja posible.\n",
    "2.  Método de rechazo con una uniforme discreta, usando c = 3.\n",
    "3.  Transformada inversa.\n",
    "4.  Método de la urna: utilizar un arreglo A de tamaño 100 donde cada valor i está en exactamente p_i ∗ 100 posiciones. El método debe devolver A[k] con probabilidad 0,01. ¿Por qué funciona?\n",
    "Compare la eficiencia de los tres algoritmos realizando 10000 simulaciones.\n"
   ]
  },
  {
   "cell_type": "code",
   "execution_count": 15,
   "metadata": {},
   "outputs": [
    {
     "name": "stdout",
     "output_type": "stream",
     "text": [
      "La variable X generada por el método de rechazo con una uniforme discreta es:\n",
      "10\n",
      "La variable X generada por el método de la urna es:\n",
      "2\n"
     ]
    }
   ],
   "source": [
    "import random\n",
    "\n",
    "x = [1, 2, 3, 4, 5, 6, 7, 8, 9, 10]\n",
    "p = [0.11, 0.14, 0.09, 0.08, 0.12, 0.10, 0.09, 0.07, 0.11, 0.09]\n",
    "\n",
    "def discretaX(p, x):\n",
    "    U = random.random()\n",
    "    i, F = 0, p[0]\n",
    "    while U > F:\n",
    "        i += 1\n",
    "        F += p[i]\n",
    "    return x[i]\n",
    "\n",
    "print(\"La variable X generada por el método de rechazo con una uniforme discreta es:\")\n",
    "print(discretaX(p, x))\n",
    "\n",
    "# Ej 4:\n",
    "def urna(p, x):\n",
    "    A = []\n",
    "    for i in range(len(p)):\n",
    "        A.extend([x[i]] * int(p[i] * 100))\n",
    "    return random.choice(A)\n",
    "\n",
    "print(\"La variable X generada por el método de la urna es:\")\n",
    "print(urna(p, x))"
   ]
  },
  {
   "cell_type": "code",
   "execution_count": null,
   "metadata": {},
   "outputs": [
    {
     "name": "stdout",
     "output_type": "stream",
     "text": [
      "2.34 μs ± 26 ns per loop (mean ± std. dev. of 7 runs, 100,000 loops each)\n"
     ]
    }
   ],
   "source": [
    "%%timeit\n",
    "urna(p, x)"
   ]
  },
  {
   "cell_type": "code",
   "execution_count": 40,
   "metadata": {},
   "outputs": [
    {
     "data": {
      "text/plain": [
       "24.038410186767578"
      ]
     },
     "execution_count": 40,
     "metadata": {},
     "output_type": "execute_result"
    }
   ],
   "source": [
    "import time\n",
    "\n",
    "def iterador():\n",
    "    time_now=time.time()\n",
    "    for i in range(100000):\n",
    "        urna(p, x)\n",
    "    time_end=time.time()\n",
    "    return (time_end-time_now) * 100\n",
    "\n",
    "iterador()"
   ]
  },
  {
   "cell_type": "markdown",
   "metadata": {},
   "source": [
    "Ejercicio 5. Implemente dos métodos para generar una binomial Bin(n, p):\n",
    "1) Usando transformada inversa.\n",
    "2) Simulando n ensayos con probabilidad de éxito p y contando el número de éxitos.\n",
    "Para ambos métodos:\n",
    "\n",
    "a - Compare la eficiencia de ambos algoritmos para n = 10 y p = 0,3, evaluando el tiempo necesario para\n",
    "realizar 10000 simulaciones.\n",
    "\n",
    "b - Estime el valor con mayor ocurrencia y la proporción de veces que se obtuvieron los valores 0 y 10\n",
    "respectivamente.\n",
    "\n",
    "c - Compare estos valores con las probabilidades teóricas de la binomial. Si están alejados, revise el código."
   ]
  },
  {
   "cell_type": "code",
   "execution_count": null,
   "metadata": {},
   "outputs": [
    {
     "name": "stdout",
     "output_type": "stream",
     "text": [
      "Tiempo de ejecución del método de transformada inversa: 11.564254760742188 ms\n",
      "Tiempo de ejecución del método de ensayos: 12.577295303344727 ms\n"
     ]
    }
   ],
   "source": [
    "import random\n",
    "import time\n",
    "# Ej 5 -1\n",
    "\n",
    "def bin_inversa(n, p):\n",
    "    c = p / (1 - p)\n",
    "    prob = (1 - p) ** n\n",
    "    F = prob; i=0\n",
    "    U = random.random()\n",
    "    while U >= F:\n",
    "        prob *= c * (n-i) / (i+1)\n",
    "        F += prob\n",
    "        i += 1\n",
    "    return i\n",
    "\n",
    "# Ej 5 -2\n",
    "def bin_ensayos(n, p):\n",
    "    cant_exitos = 0\n",
    "    for i in range(n):\n",
    "        if random.random() >= p:\n",
    "            cant_exitos += 1\n",
    "    return cant_exitos\n",
    "\n",
    "# Comparar eficiencia con n = 10 y p = 0,3\n",
    "\n",
    "tiempo_inversa = time.time()\n",
    "for i in range(10000):\n",
    "    contador_inv_0 = 0\n",
    "    contador_inv_10 = 0\n",
    "    if bin_inversa(10, 0.3) == 0:\n",
    "        contador_inv_0 += 1\n",
    "    if bin_inversa(10, 0.3) == 10:\n",
    "        contador_inv_10 += 1\n",
    "tiempo_inversa = (time.time() - tiempo_inversa) * 1000\n",
    "\n",
    "tiempo_ensayos = time.time()\n",
    "for i in range(10000):\n",
    "    contador_ens_0 = 0\n",
    "    contador_ens_10 = 0\n",
    "    if bin_ensayos(10, 0.3) == 0:\n",
    "        contador_ens_0 += 1\n",
    "    if bin_ensayos(10, 0.3) == 10:\n",
    "        contador_ens_10 += 1\n",
    "tiempo_ensayos = (time.time() - tiempo_ensayos) * 1000\n",
    "\n",
    "print(f\"Tiempo de ejecución del método de transformada inversa: {tiempo_inversa} ms\")\n",
    "print(f\"Tiempo de ejecución del método de ensayos: {tiempo_ensayos} ms\")\n"
   ]
  },
  {
   "cell_type": "markdown",
   "metadata": {},
   "source": [
    "Ejercicio 9. Implemente dos métodos para simular una variable geométrica Geom(p):\n",
    "\n",
    "1 - Usando transformada inversa y aplicando la fórmula recursiva para P(X = i).\n",
    "\n",
    "2 - Simulando ensayos con probabilidad de éxito p hasta obtener un éxito.\n",
    "\n",
    "Compare la eficiencia de estos algoritmos para p = 0,8 y para p = 0,2.\n",
    "\n",
    "Para cada caso, drealice 10000 simulaciones y calcule el promedio de los valores obtenidos. \n",
    "Comparar estos valores con el valor esperado de la distribución correspondiente. Si están alejados, revisar el código"
   ]
  },
  {
   "cell_type": "code",
   "execution_count": null,
   "metadata": {},
   "outputs": [],
   "source": []
  }
 ],
 "metadata": {
  "kernelspec": {
   "display_name": "Python 3",
   "language": "python",
   "name": "python3"
  },
  "language_info": {
   "codemirror_mode": {
    "name": "ipython",
    "version": 3
   },
   "file_extension": ".py",
   "mimetype": "text/x-python",
   "name": "python",
   "nbconvert_exporter": "python",
   "pygments_lexer": "ipython3",
   "version": "3.13.3"
  }
 },
 "nbformat": 4,
 "nbformat_minor": 2
}
